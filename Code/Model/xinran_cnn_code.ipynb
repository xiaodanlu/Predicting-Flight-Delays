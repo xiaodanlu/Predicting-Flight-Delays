{
 "cells": [
  {
   "cell_type": "code",
   "execution_count": 19,
   "metadata": {},
   "outputs": [],
   "source": [
    "import pandas as pd\n",
    "import numpy as np\n",
    "from keras.models import Sequential\n",
    "from keras.layers import Dropout, Dense\n",
    "from sklearn.metrics import f1_score\n",
    "from keras.layers import Flatten\n",
    "from keras.layers import Embedding\n",
    "from keras.layers.convolutional import Convolution1D\n",
    "from keras.layers.convolutional import MaxPooling1D"
   ]
  },
  {
   "cell_type": "code",
   "execution_count": 20,
   "metadata": {},
   "outputs": [],
   "source": [
    "data = pd.read_csv(\"../On_Time_Marketing_Carrier_On_Time_Performance_2022_12_final.csv\")"
   ]
  },
  {
   "cell_type": "code",
   "execution_count": 21,
   "metadata": {},
   "outputs": [
    {
     "data": {
      "text/html": [
       "<div>\n",
       "<style scoped>\n",
       "    .dataframe tbody tr th:only-of-type {\n",
       "        vertical-align: middle;\n",
       "    }\n",
       "\n",
       "    .dataframe tbody tr th {\n",
       "        vertical-align: top;\n",
       "    }\n",
       "\n",
       "    .dataframe thead th {\n",
       "        text-align: right;\n",
       "    }\n",
       "</style>\n",
       "<table border=\"1\" class=\"dataframe\">\n",
       "  <thead>\n",
       "    <tr style=\"text-align: right;\">\n",
       "      <th></th>\n",
       "      <th>Year</th>\n",
       "      <th>Month</th>\n",
       "      <th>DayofMonth</th>\n",
       "      <th>DayOfWeek</th>\n",
       "      <th>FlightDate</th>\n",
       "      <th>Marketing_Airline_Network</th>\n",
       "      <th>DOT_ID_Marketing_Airline</th>\n",
       "      <th>Flight_Number_Marketing_Airline</th>\n",
       "      <th>Origin</th>\n",
       "      <th>OriginCityName</th>\n",
       "      <th>...</th>\n",
       "      <th>DistanceGroup</th>\n",
       "      <th>CarrierDelay</th>\n",
       "      <th>WeatherDelay</th>\n",
       "      <th>NASDelay</th>\n",
       "      <th>SecurityDelay</th>\n",
       "      <th>LateAircraftDelay</th>\n",
       "      <th>FirstDepTime</th>\n",
       "      <th>TotalAddGTime</th>\n",
       "      <th>LongestAddGTime</th>\n",
       "      <th>DivAirportLandings</th>\n",
       "    </tr>\n",
       "  </thead>\n",
       "  <tbody>\n",
       "    <tr>\n",
       "      <th>0</th>\n",
       "      <td>2022</td>\n",
       "      <td>12</td>\n",
       "      <td>19</td>\n",
       "      <td>1</td>\n",
       "      <td>12/19/2022</td>\n",
       "      <td>DL</td>\n",
       "      <td>19790</td>\n",
       "      <td>4628</td>\n",
       "      <td>BDL</td>\n",
       "      <td>Hartford, CT</td>\n",
       "      <td>...</td>\n",
       "      <td>1</td>\n",
       "      <td>NaN</td>\n",
       "      <td>NaN</td>\n",
       "      <td>NaN</td>\n",
       "      <td>NaN</td>\n",
       "      <td>NaN</td>\n",
       "      <td>NaN</td>\n",
       "      <td>NaN</td>\n",
       "      <td>NaN</td>\n",
       "      <td>0</td>\n",
       "    </tr>\n",
       "    <tr>\n",
       "      <th>1</th>\n",
       "      <td>2022</td>\n",
       "      <td>12</td>\n",
       "      <td>20</td>\n",
       "      <td>2</td>\n",
       "      <td>12/20/2022</td>\n",
       "      <td>DL</td>\n",
       "      <td>19790</td>\n",
       "      <td>4628</td>\n",
       "      <td>BDL</td>\n",
       "      <td>Hartford, CT</td>\n",
       "      <td>...</td>\n",
       "      <td>1</td>\n",
       "      <td>NaN</td>\n",
       "      <td>NaN</td>\n",
       "      <td>NaN</td>\n",
       "      <td>NaN</td>\n",
       "      <td>NaN</td>\n",
       "      <td>NaN</td>\n",
       "      <td>NaN</td>\n",
       "      <td>NaN</td>\n",
       "      <td>0</td>\n",
       "    </tr>\n",
       "    <tr>\n",
       "      <th>2</th>\n",
       "      <td>2022</td>\n",
       "      <td>12</td>\n",
       "      <td>21</td>\n",
       "      <td>3</td>\n",
       "      <td>12/21/2022</td>\n",
       "      <td>DL</td>\n",
       "      <td>19790</td>\n",
       "      <td>4628</td>\n",
       "      <td>BDL</td>\n",
       "      <td>Hartford, CT</td>\n",
       "      <td>...</td>\n",
       "      <td>1</td>\n",
       "      <td>NaN</td>\n",
       "      <td>NaN</td>\n",
       "      <td>NaN</td>\n",
       "      <td>NaN</td>\n",
       "      <td>NaN</td>\n",
       "      <td>NaN</td>\n",
       "      <td>NaN</td>\n",
       "      <td>NaN</td>\n",
       "      <td>0</td>\n",
       "    </tr>\n",
       "    <tr>\n",
       "      <th>3</th>\n",
       "      <td>2022</td>\n",
       "      <td>12</td>\n",
       "      <td>22</td>\n",
       "      <td>4</td>\n",
       "      <td>12/22/2022</td>\n",
       "      <td>DL</td>\n",
       "      <td>19790</td>\n",
       "      <td>4628</td>\n",
       "      <td>BDL</td>\n",
       "      <td>Hartford, CT</td>\n",
       "      <td>...</td>\n",
       "      <td>1</td>\n",
       "      <td>NaN</td>\n",
       "      <td>NaN</td>\n",
       "      <td>NaN</td>\n",
       "      <td>NaN</td>\n",
       "      <td>NaN</td>\n",
       "      <td>NaN</td>\n",
       "      <td>NaN</td>\n",
       "      <td>NaN</td>\n",
       "      <td>0</td>\n",
       "    </tr>\n",
       "    <tr>\n",
       "      <th>4</th>\n",
       "      <td>2022</td>\n",
       "      <td>12</td>\n",
       "      <td>23</td>\n",
       "      <td>5</td>\n",
       "      <td>12/23/2022</td>\n",
       "      <td>DL</td>\n",
       "      <td>19790</td>\n",
       "      <td>4628</td>\n",
       "      <td>BDL</td>\n",
       "      <td>Hartford, CT</td>\n",
       "      <td>...</td>\n",
       "      <td>1</td>\n",
       "      <td>NaN</td>\n",
       "      <td>NaN</td>\n",
       "      <td>NaN</td>\n",
       "      <td>NaN</td>\n",
       "      <td>NaN</td>\n",
       "      <td>NaN</td>\n",
       "      <td>NaN</td>\n",
       "      <td>NaN</td>\n",
       "      <td>0</td>\n",
       "    </tr>\n",
       "  </tbody>\n",
       "</table>\n",
       "<p>5 rows × 48 columns</p>\n",
       "</div>"
      ],
      "text/plain": [
       "   Year  Month  DayofMonth  DayOfWeek  FlightDate Marketing_Airline_Network  \\\n",
       "0  2022     12          19          1  12/19/2022                        DL   \n",
       "1  2022     12          20          2  12/20/2022                        DL   \n",
       "2  2022     12          21          3  12/21/2022                        DL   \n",
       "3  2022     12          22          4  12/22/2022                        DL   \n",
       "4  2022     12          23          5  12/23/2022                        DL   \n",
       "\n",
       "   DOT_ID_Marketing_Airline  Flight_Number_Marketing_Airline Origin  \\\n",
       "0                     19790                             4628    BDL   \n",
       "1                     19790                             4628    BDL   \n",
       "2                     19790                             4628    BDL   \n",
       "3                     19790                             4628    BDL   \n",
       "4                     19790                             4628    BDL   \n",
       "\n",
       "  OriginCityName  ... DistanceGroup CarrierDelay WeatherDelay NASDelay  \\\n",
       "0   Hartford, CT  ...             1          NaN          NaN      NaN   \n",
       "1   Hartford, CT  ...             1          NaN          NaN      NaN   \n",
       "2   Hartford, CT  ...             1          NaN          NaN      NaN   \n",
       "3   Hartford, CT  ...             1          NaN          NaN      NaN   \n",
       "4   Hartford, CT  ...             1          NaN          NaN      NaN   \n",
       "\n",
       "   SecurityDelay  LateAircraftDelay  FirstDepTime  TotalAddGTime  \\\n",
       "0            NaN                NaN           NaN            NaN   \n",
       "1            NaN                NaN           NaN            NaN   \n",
       "2            NaN                NaN           NaN            NaN   \n",
       "3            NaN                NaN           NaN            NaN   \n",
       "4            NaN                NaN           NaN            NaN   \n",
       "\n",
       "   LongestAddGTime  DivAirportLandings  \n",
       "0              NaN                   0  \n",
       "1              NaN                   0  \n",
       "2              NaN                   0  \n",
       "3              NaN                   0  \n",
       "4              NaN                   0  \n",
       "\n",
       "[5 rows x 48 columns]"
      ]
     },
     "execution_count": 21,
     "metadata": {},
     "output_type": "execute_result"
    }
   ],
   "source": [
    "data.head()"
   ]
  },
  {
   "cell_type": "code",
   "execution_count": 22,
   "metadata": {},
   "outputs": [
    {
     "data": {
      "text/plain": [
       "(576827, 48)"
      ]
     },
     "execution_count": 22,
     "metadata": {},
     "output_type": "execute_result"
    }
   ],
   "source": [
    "data.shape"
   ]
  },
  {
   "cell_type": "code",
   "execution_count": 23,
   "metadata": {},
   "outputs": [],
   "source": [
    "data['FlightDate'] = pd.to_datetime(data['FlightDate'])"
   ]
  },
  {
   "cell_type": "code",
   "execution_count": 24,
   "metadata": {},
   "outputs": [],
   "source": [
    "data[\"DelayGroup\"] = None\n",
    "data.loc[data[\"DepDelayMinutes\"] == 0, \"DelayGroup\"] = \"OnTime_Early\"\n",
    "data.loc[\n",
    "    (data[\"DepDelayMinutes\"] > 0) & (data[\"DepDelayMinutes\"] <= 15), \"DelayGroup\"\n",
    "] = \"Small_Delay\"\n",
    "data.loc[\n",
    "    (data[\"DepDelayMinutes\"] > 15) & (data[\"DepDelayMinutes\"] <= 45), \"DelayGroup\"\n",
    "] = \"Medium_Delay\"\n",
    "data.loc[data[\"DepDelayMinutes\"] > 45, \"DelayGroup\"] = \"Large_Delay\"\n",
    "data.loc[data[\"Cancelled\"], \"DelayGroup\"] = \"Cancelled\""
   ]
  },
  {
   "cell_type": "code",
   "execution_count": 25,
   "metadata": {},
   "outputs": [],
   "source": [
    "train = data[data['FlightDate']<='2022-12-25']\n",
    "test = data[data['FlightDate']>'2022-12-25']"
   ]
  },
  {
   "cell_type": "code",
   "execution_count": 26,
   "metadata": {},
   "outputs": [],
   "source": [
    "train.loc[train['DelayGroup'].isnull()==True,'DelayGroup'] = 'OnTime_Early'"
   ]
  },
  {
   "cell_type": "code",
   "execution_count": 27,
   "metadata": {},
   "outputs": [],
   "source": [
    "test.loc[test['DelayGroup'].isnull()==True,'DelayGroup'] = 'OnTime_Early'"
   ]
  },
  {
   "cell_type": "code",
   "execution_count": 28,
   "metadata": {},
   "outputs": [
    {
     "data": {
      "text/plain": [
       "Index(['Year', 'Month', 'DayofMonth', 'DayOfWeek', 'FlightDate',\n",
       "       'Marketing_Airline_Network', 'DOT_ID_Marketing_Airline',\n",
       "       'Flight_Number_Marketing_Airline', 'Origin', 'OriginCityName',\n",
       "       'OriginStateName', 'Dest', 'DestCityName', 'DestStateName',\n",
       "       'CRSDepTime', 'DepTime', 'DepDelay', 'DepDelayMinutes', 'DepDel15',\n",
       "       'DepartureDelayGroups', 'TaxiOut', 'WheelsOff', 'WheelsOn', 'TaxiIn',\n",
       "       'CRSArrTime', 'ArrTime', 'ArrDelay', 'ArrDelayMinutes', 'ArrDel15',\n",
       "       'ArrivalDelayGroups', 'Cancelled', 'CancellationCode', 'Diverted',\n",
       "       'CRSElapsedTime', 'ActualElapsedTime', 'AirTime', 'Flights', 'Distance',\n",
       "       'DistanceGroup', 'CarrierDelay', 'WeatherDelay', 'NASDelay',\n",
       "       'SecurityDelay', 'LateAircraftDelay', 'FirstDepTime', 'TotalAddGTime',\n",
       "       'LongestAddGTime', 'DivAirportLandings', 'DelayGroup'],\n",
       "      dtype='object')"
      ]
     },
     "execution_count": 28,
     "metadata": {},
     "output_type": "execute_result"
    }
   ],
   "source": [
    "train.columns"
   ]
  },
  {
   "cell_type": "code",
   "execution_count": 29,
   "metadata": {},
   "outputs": [
    {
     "data": {
      "text/plain": [
       "DayOfWeek                        0\n",
       "Marketing_Airline_Network        0\n",
       "Origin                           0\n",
       "Dest                             0\n",
       "CRSDepTime                       0\n",
       "TaxiOut                      18178\n",
       "WheelsOff                    18178\n",
       "WheelsOn                     18178\n",
       "TaxiIn                       18178\n",
       "CRSArrTime                       0\n",
       "Diverted                         0\n",
       "CRSElapsedTime                   0\n",
       "AirTime                      18178\n",
       "Flights                          0\n",
       "Distance                         0\n",
       "dtype: int64"
      ]
     },
     "execution_count": 29,
     "metadata": {},
     "output_type": "execute_result"
    }
   ],
   "source": [
    "train[['DayOfWeek','Marketing_Airline_Network','Origin','Dest','CRSDepTime','TaxiOut','WheelsOff', 'WheelsOn', 'TaxiIn','CRSArrTime','Diverted',\n",
    "       'CRSElapsedTime','AirTime', 'Flights', 'Distance']].isnull().sum()"
   ]
  },
  {
   "cell_type": "code",
   "execution_count": 42,
   "metadata": {},
   "outputs": [],
   "source": [
    "train_data = train[['DayOfWeek','CRSDepTime','TaxiOut','WheelsOff', 'WheelsOn', 'TaxiIn','CRSArrTime','Diverted',\n",
    "       'CRSElapsedTime','AirTime', 'Flights', 'Distance','DelayGroup']]"
   ]
  },
  {
   "cell_type": "code",
   "execution_count": 31,
   "metadata": {},
   "outputs": [
    {
     "name": "stderr",
     "output_type": "stream",
     "text": [
      "/var/folders/fw/5y38398x4pgb4ks5np5s62tw0000gn/T/ipykernel_65258/1654660196.py:1: SettingWithCopyWarning: \n",
      "A value is trying to be set on a copy of a slice from a DataFrame\n",
      "\n",
      "See the caveats in the documentation: https://pandas.pydata.org/pandas-docs/stable/user_guide/indexing.html#returning-a-view-versus-a-copy\n",
      "  train_data.dropna(inplace=True)\n"
     ]
    }
   ],
   "source": [
    "train_data.dropna(inplace=True)"
   ]
  },
  {
   "cell_type": "code",
   "execution_count": 32,
   "metadata": {},
   "outputs": [
    {
     "data": {
      "text/html": [
       "<div>\n",
       "<style scoped>\n",
       "    .dataframe tbody tr th:only-of-type {\n",
       "        vertical-align: middle;\n",
       "    }\n",
       "\n",
       "    .dataframe tbody tr th {\n",
       "        vertical-align: top;\n",
       "    }\n",
       "\n",
       "    .dataframe thead th {\n",
       "        text-align: right;\n",
       "    }\n",
       "</style>\n",
       "<table border=\"1\" class=\"dataframe\">\n",
       "  <thead>\n",
       "    <tr style=\"text-align: right;\">\n",
       "      <th></th>\n",
       "      <th>DayOfWeek</th>\n",
       "      <th>Marketing_Airline_Network</th>\n",
       "      <th>Origin</th>\n",
       "      <th>Dest</th>\n",
       "      <th>CRSDepTime</th>\n",
       "      <th>TaxiOut</th>\n",
       "      <th>WheelsOff</th>\n",
       "      <th>WheelsOn</th>\n",
       "      <th>TaxiIn</th>\n",
       "      <th>CRSArrTime</th>\n",
       "      <th>Diverted</th>\n",
       "      <th>CRSElapsedTime</th>\n",
       "      <th>AirTime</th>\n",
       "      <th>Flights</th>\n",
       "      <th>Distance</th>\n",
       "      <th>DelayGroup</th>\n",
       "    </tr>\n",
       "  </thead>\n",
       "  <tbody>\n",
       "    <tr>\n",
       "      <th>0</th>\n",
       "      <td>1</td>\n",
       "      <td>DL</td>\n",
       "      <td>BDL</td>\n",
       "      <td>LGA</td>\n",
       "      <td>523</td>\n",
       "      <td>16.0</td>\n",
       "      <td>534.0</td>\n",
       "      <td>559.0</td>\n",
       "      <td>25.0</td>\n",
       "      <td>630</td>\n",
       "      <td>0</td>\n",
       "      <td>67</td>\n",
       "      <td>25.0</td>\n",
       "      <td>1</td>\n",
       "      <td>101</td>\n",
       "      <td>Cancelled</td>\n",
       "    </tr>\n",
       "    <tr>\n",
       "      <th>1</th>\n",
       "      <td>2</td>\n",
       "      <td>DL</td>\n",
       "      <td>BDL</td>\n",
       "      <td>LGA</td>\n",
       "      <td>523</td>\n",
       "      <td>11.0</td>\n",
       "      <td>529.0</td>\n",
       "      <td>557.0</td>\n",
       "      <td>18.0</td>\n",
       "      <td>630</td>\n",
       "      <td>0</td>\n",
       "      <td>67</td>\n",
       "      <td>28.0</td>\n",
       "      <td>1</td>\n",
       "      <td>101</td>\n",
       "      <td>Cancelled</td>\n",
       "    </tr>\n",
       "    <tr>\n",
       "      <th>2</th>\n",
       "      <td>3</td>\n",
       "      <td>DL</td>\n",
       "      <td>BDL</td>\n",
       "      <td>LGA</td>\n",
       "      <td>523</td>\n",
       "      <td>15.0</td>\n",
       "      <td>536.0</td>\n",
       "      <td>606.0</td>\n",
       "      <td>10.0</td>\n",
       "      <td>630</td>\n",
       "      <td>0</td>\n",
       "      <td>67</td>\n",
       "      <td>30.0</td>\n",
       "      <td>1</td>\n",
       "      <td>101</td>\n",
       "      <td>OnTime_Early</td>\n",
       "    </tr>\n",
       "    <tr>\n",
       "      <th>3</th>\n",
       "      <td>4</td>\n",
       "      <td>DL</td>\n",
       "      <td>BDL</td>\n",
       "      <td>LGA</td>\n",
       "      <td>523</td>\n",
       "      <td>14.0</td>\n",
       "      <td>532.0</td>\n",
       "      <td>603.0</td>\n",
       "      <td>8.0</td>\n",
       "      <td>630</td>\n",
       "      <td>0</td>\n",
       "      <td>67</td>\n",
       "      <td>31.0</td>\n",
       "      <td>1</td>\n",
       "      <td>101</td>\n",
       "      <td>OnTime_Early</td>\n",
       "    </tr>\n",
       "    <tr>\n",
       "      <th>11</th>\n",
       "      <td>4</td>\n",
       "      <td>DL</td>\n",
       "      <td>JFK</td>\n",
       "      <td>MSP</td>\n",
       "      <td>735</td>\n",
       "      <td>56.0</td>\n",
       "      <td>924.0</td>\n",
       "      <td>1113.0</td>\n",
       "      <td>7.0</td>\n",
       "      <td>1014</td>\n",
       "      <td>0</td>\n",
       "      <td>219</td>\n",
       "      <td>169.0</td>\n",
       "      <td>1</td>\n",
       "      <td>1029</td>\n",
       "      <td>Large_Delay</td>\n",
       "    </tr>\n",
       "  </tbody>\n",
       "</table>\n",
       "</div>"
      ],
      "text/plain": [
       "    DayOfWeek Marketing_Airline_Network Origin Dest  CRSDepTime  TaxiOut  \\\n",
       "0           1                        DL    BDL  LGA         523     16.0   \n",
       "1           2                        DL    BDL  LGA         523     11.0   \n",
       "2           3                        DL    BDL  LGA         523     15.0   \n",
       "3           4                        DL    BDL  LGA         523     14.0   \n",
       "11          4                        DL    JFK  MSP         735     56.0   \n",
       "\n",
       "    WheelsOff  WheelsOn  TaxiIn  CRSArrTime  Diverted  CRSElapsedTime  \\\n",
       "0       534.0     559.0    25.0         630         0              67   \n",
       "1       529.0     557.0    18.0         630         0              67   \n",
       "2       536.0     606.0    10.0         630         0              67   \n",
       "3       532.0     603.0     8.0         630         0              67   \n",
       "11      924.0    1113.0     7.0        1014         0             219   \n",
       "\n",
       "    AirTime  Flights  Distance    DelayGroup  \n",
       "0      25.0        1       101     Cancelled  \n",
       "1      28.0        1       101     Cancelled  \n",
       "2      30.0        1       101  OnTime_Early  \n",
       "3      31.0        1       101  OnTime_Early  \n",
       "11    169.0        1      1029   Large_Delay  "
      ]
     },
     "execution_count": 32,
     "metadata": {},
     "output_type": "execute_result"
    }
   ],
   "source": [
    "train_data.head()"
   ]
  },
  {
   "cell_type": "code",
   "execution_count": 33,
   "metadata": {},
   "outputs": [],
   "source": [
    "X_train = train_data[['DayOfWeek','CRSDepTime','TaxiOut','WheelsOff', 'WheelsOn', 'TaxiIn','CRSArrTime','Diverted',\n",
    "       'CRSElapsedTime','AirTime', 'Flights', 'Distance']]\n",
    "Y_train = train_data['DelayGroup']"
   ]
  },
  {
   "cell_type": "code",
   "execution_count": 34,
   "metadata": {},
   "outputs": [
    {
     "name": "stderr",
     "output_type": "stream",
     "text": [
      "/var/folders/fw/5y38398x4pgb4ks5np5s62tw0000gn/T/ipykernel_65258/3872433685.py:3: SettingWithCopyWarning: \n",
      "A value is trying to be set on a copy of a slice from a DataFrame\n",
      "\n",
      "See the caveats in the documentation: https://pandas.pydata.org/pandas-docs/stable/user_guide/indexing.html#returning-a-view-versus-a-copy\n",
      "  test_data.dropna(inplace=True)\n"
     ]
    }
   ],
   "source": [
    "test_data = test[['DayOfWeek','CRSDepTime','TaxiOut','WheelsOff', 'WheelsOn', 'TaxiIn','CRSArrTime','Diverted',\n",
    "       'CRSElapsedTime','AirTime', 'Flights', 'Distance','DelayGroup']]\n",
    "test_data.dropna(inplace=True)\n",
    "X_test = test_data[['DayOfWeek','CRSDepTime','TaxiOut','WheelsOff', 'WheelsOn', 'TaxiIn','CRSArrTime','Diverted',\n",
    "       'CRSElapsedTime','AirTime', 'Flights', 'Distance']]\n",
    "Y_test = test_data['DelayGroup']"
   ]
  },
  {
   "cell_type": "code",
   "execution_count": 35,
   "metadata": {},
   "outputs": [],
   "source": [
    "from sklearn.preprocessing import LabelEncoder\n",
    "le = LabelEncoder()\n",
    "le.fit(Y_train)\n",
    "y_train_enc = le.transform(Y_train)\n",
    "y_test_enc = le.transform(Y_test)"
   ]
  },
  {
   "cell_type": "code",
   "execution_count": 36,
   "metadata": {},
   "outputs": [],
   "source": [
    "# X_train = X_train.reshape(X_train.shape[0], X_train.shape[1], 1)"
   ]
  },
  {
   "cell_type": "code",
   "execution_count": 38,
   "metadata": {},
   "outputs": [],
   "source": [
    "model = Sequential()\n",
    "\n",
    "model.add(Convolution1D(64, 10, padding='valid', activation='relu',input_shape=(X_train.shape[1], 1)))\n",
    "model.add(MaxPooling1D(pool_size=3))\n",
    "\n",
    "# model.add(Convolution1D(128, 10, padding='valid', activation='relu'))\n",
    "# model.add(MaxPooling1D(pool_size=3))\n",
    "\n",
    "\n",
    "model.add(Dropout(0.25))\n",
    "model.add(Flatten())\n",
    "model.add(Dense(512, activation='relu')) \n",
    " \n",
    "model.add(Dense(1, activation='sigmoid'))"
   ]
  },
  {
   "cell_type": "code",
   "execution_count": 39,
   "metadata": {},
   "outputs": [
    {
     "name": "stdout",
     "output_type": "stream",
     "text": [
      "Epoch 1/8\n"
     ]
    },
    {
     "name": "stderr",
     "output_type": "stream",
     "text": [
      "2023-04-24 11:50:02.591009: W tensorflow/tsl/platform/profile_utils/cpu_utils.cc:128] Failed to get CPU frequency: 0 Hz\n"
     ]
    },
    {
     "name": "stdout",
     "output_type": "stream",
     "text": [
      "14012/14012 [==============================] - 12s 817us/step - loss: -358240780288.0000 - binary_accuracy: 0.1186\n",
      "Epoch 2/8\n",
      "14012/14012 [==============================] - 12s 884us/step - loss: -3801886490624.0000 - binary_accuracy: 0.1186\n",
      "Epoch 3/8\n",
      "14012/14012 [==============================] - 11s 810us/step - loss: -13963635982336.0000 - binary_accuracy: 0.1186\n",
      "Epoch 4/8\n",
      "14012/14012 [==============================] - 11s 806us/step - loss: -34252177539072.0000 - binary_accuracy: 0.1186\n",
      "Epoch 5/8\n",
      "14012/14012 [==============================] - 11s 805us/step - loss: -68016259727360.0000 - binary_accuracy: 0.1186\n",
      "Epoch 6/8\n",
      "14012/14012 [==============================] - 11s 801us/step - loss: -118654360354816.0000 - binary_accuracy: 0.1186\n",
      "Epoch 7/8\n",
      "14012/14012 [==============================] - 11s 805us/step - loss: -189339136950272.0000 - binary_accuracy: 0.1186\n",
      "Epoch 8/8\n",
      "14012/14012 [==============================] - 11s 806us/step - loss: -283425462288384.0000 - binary_accuracy: 0.1186\n"
     ]
    }
   ],
   "source": [
    "model.compile(loss='binary_crossentropy', optimizer='adam', metrics=['binary_accuracy'])\n",
    "\n",
    "# Fit data to model\n",
    "model_fit = model.fit(X_train, y_train_enc,\n",
    "            batch_size=32,\n",
    "            epochs=8,\n",
    "            verbose=1)"
   ]
  },
  {
   "cell_type": "code",
   "execution_count": 40,
   "metadata": {},
   "outputs": [
    {
     "name": "stdout",
     "output_type": "stream",
     "text": [
      "Accuracy is:15.5641108751297%\n"
     ]
    }
   ],
   "source": [
    "accuracy = model.evaluate(X_test, y_test_enc, verbose=0)\n",
    "print('Accuracy is:' + str(accuracy[1] * 100)+'%')\n",
    "y_pred = model.predict(X_test, verbose=0)"
   ]
  },
  {
   "cell_type": "code",
   "execution_count": 45,
   "metadata": {},
   "outputs": [
    {
     "name": "stderr",
     "output_type": "stream",
     "text": [
      "/var/folders/fw/5y38398x4pgb4ks5np5s62tw0000gn/T/ipykernel_65258/2702354315.py:1: SettingWithCopyWarning: \n",
      "A value is trying to be set on a copy of a slice from a DataFrame\n",
      "\n",
      "See the caveats in the documentation: https://pandas.pydata.org/pandas-docs/stable/user_guide/indexing.html#returning-a-view-versus-a-copy\n",
      "  train_data.dropna(how='any',inplace=True)\n"
     ]
    }
   ],
   "source": [
    "train_data.dropna(how='any',inplace=True)"
   ]
  },
  {
   "cell_type": "code",
   "execution_count": 47,
   "metadata": {},
   "outputs": [
    {
     "name": "stderr",
     "output_type": "stream",
     "text": [
      "/var/folders/fw/5y38398x4pgb4ks5np5s62tw0000gn/T/ipykernel_65258/2168291576.py:1: SettingWithCopyWarning: \n",
      "A value is trying to be set on a copy of a slice from a DataFrame\n",
      "\n",
      "See the caveats in the documentation: https://pandas.pydata.org/pandas-docs/stable/user_guide/indexing.html#returning-a-view-versus-a-copy\n",
      "  test_data.dropna(how='any',inplace=True)\n"
     ]
    }
   ],
   "source": [
    "test_data.dropna(how='any',inplace=True)"
   ]
  },
  {
   "cell_type": "code",
   "execution_count": 48,
   "metadata": {},
   "outputs": [],
   "source": [
    "train_data.to_csv(\"train_data.csv\",index=None)"
   ]
  },
  {
   "cell_type": "code",
   "execution_count": 49,
   "metadata": {},
   "outputs": [],
   "source": [
    "test_data.to_csv(\"test_data.csv\",index=None)"
   ]
  },
  {
   "cell_type": "code",
   "execution_count": null,
   "metadata": {},
   "outputs": [],
   "source": []
  }
 ],
 "metadata": {
  "kernelspec": {
   "display_name": "Python 3.10.8 ('metfid')",
   "language": "python",
   "name": "python3"
  },
  "language_info": {
   "codemirror_mode": {
    "name": "ipython",
    "version": 3
   },
   "file_extension": ".py",
   "mimetype": "text/x-python",
   "name": "python",
   "nbconvert_exporter": "python",
   "pygments_lexer": "ipython3",
   "version": "3.10.8"
  },
  "orig_nbformat": 4,
  "vscode": {
   "interpreter": {
    "hash": "22132aac36628afcc2ca9478ac1549919b362bc2e2dde8349831927e86299f90"
   }
  }
 },
 "nbformat": 4,
 "nbformat_minor": 2
}
